{
  "cells": [
    {
      "cell_type": "markdown",
      "metadata": {
        "id": "view-in-github"
      },
      "source": [
        "[![Open In Colab](https://colab.research.google.com/assets/colab-badge.svg)](https://colab.research.google.com/github/camenduru/trainer/blob/main/realistic.ipynb)"
      ]
    },
    {
      "cell_type": "code",
      "execution_count": null,
      "metadata": {
        "id": "SaAJk33ppFw1"
      },
      "outputs": [],
      "source": [
        "%cd /root\n",
        "%env TF_CPP_MIN_LOG_LEVEL=1\n",
        "\n",
        "!apt -y install -qq aria2\n",
        "!pip install -q torch==2.0.1+cu117 torchvision==0.15.2+cu117 torchaudio==2.0.2+cu117 torchtext==0.15.2 torchdata==0.6.1 --extra-index-url https://download.pytorch.org/whl/cu117 -U\n",
        "!pip install -q xformers==0.0.20 triton==2.0.0 diffusers==0.23.1 datasets==2.15.0 gradio==3.50.2 wandb==0.16.0 transformers==4.35.2 accelerate==0.24.1 bitsandbytes==0.41.2 omegaconf==2.3.0 -U\n",
        "\n",
        "!git clone https://github.com/camenduru/trainer\n",
        "\n",
        "diffusers_version = \"v0.23.1\"\n",
        "!aria2c --console-log-level=error -c -x 16 -s 16 -k 1M  https://github.com/huggingface/diffusers/raw/{diffusers_version}/scripts/convert_diffusers_to_original_stable_diffusion.py -d /root/trainer/diffusers/dreambooth -o convert_diffusers_to_original_stable_diffusion.py\n",
        "!aria2c --console-log-level=error -c -x 16 -s 16 -k 1M  https://github.com/huggingface/diffusers/raw/{diffusers_version}/examples/dreambooth/train_dreambooth.py -d /root/trainer/diffusers/dreambooth -o train_dreambooth.py\n",
        "!aria2c --console-log-level=error -c -x 16 -s 16 -k 1M  https://github.com/huggingface/diffusers/raw/{diffusers_version}/examples/dreambooth/train_dreambooth_lora.py -d /root/trainer/diffusers/lora -o train_dreambooth_lora.py\n",
        "!aria2c --console-log-level=error -c -x 16 -s 16 -k 1M  https://github.com/huggingface/diffusers/raw/{diffusers_version}/examples/dreambooth/train_dreambooth_lora_sdxl.py -d /root/trainer/diffusers/lora -o train_dreambooth_lora_sdxl.py\n",
        "\n",
        "BaseModelUrl = \"https://dagshub.com/stabilityai/stable-diffusion-xl-base-1.0\"\n",
        "BaseModelDir = \"/root/model\"\n",
        "!aria2c --console-log-level=error -c -x 16 -s 16 -k 1M {BaseModelUrl}/raw/main/data/model_index.json -d {BaseModelDir} -o model_index.json\n",
        "!aria2c --console-log-level=error -c -x 16 -s 16 -k 1M {BaseModelUrl}/raw/main/data/vae/config.json -d {BaseModelDir}/vae -o config.json\n",
        "!aria2c --console-log-level=error -c -x 16 -s 16 -k 1M {BaseModelUrl}/raw/main/data/vae/diffusion_pytorch_model.safetensors -d {BaseModelDir}/vae -o diffusion_pytorch_model.safetensors\n",
        "# !aria2c --console-log-level=error -c -x 16 -s 16 -k 1M {BaseModelUrl}/raw/main/data/vae/diffusion_pytorch_model.bin -d {BaseModelDir}/vae -o diffusion_pytorch_model.bin\n",
        "!aria2c --console-log-level=error -c -x 16 -s 16 -k 1M {BaseModelUrl}/raw/main/data/unet/config.json -d {BaseModelDir}/unet -o config.json\n",
        "!aria2c --console-log-level=error -c -x 16 -s 16 -k 1M {BaseModelUrl}/raw/main/data/unet/diffusion_pytorch_model.safetensors -d {BaseModelDir}/unet -o diffusion_pytorch_model.safetensors\n",
        "# !aria2c --console-log-level=error -c -x 16 -s 16 -k 1M {BaseModelUrl}/raw/main/data/unet/diffusion_pytorch_model.bin -d {BaseModelDir}/unet -o diffusion_pytorch_model.bin\n",
        "!aria2c --console-log-level=error -c -x 16 -s 16 -k 1M {BaseModelUrl}/raw/main/data/tokenizer/merges.txt -d {BaseModelDir}/tokenizer -o merges.txt\n",
        "!aria2c --console-log-level=error -c -x 16 -s 16 -k 1M {BaseModelUrl}/raw/main/data/tokenizer/special_tokens_map.json -d {BaseModelDir}/tokenizer -o special_tokens_map.json\n",
        "!aria2c --console-log-level=error -c -x 16 -s 16 -k 1M {BaseModelUrl}/raw/main/data/tokenizer/tokenizer_config.json -d {BaseModelDir}/tokenizer -o tokenizer_config.json\n",
        "!aria2c --console-log-level=error -c -x 16 -s 16 -k 1M {BaseModelUrl}/raw/main/data/tokenizer/vocab.json -d {BaseModelDir}/tokenizer -o vocab.json\n",
        "!aria2c --console-log-level=error -c -x 16 -s 16 -k 1M {BaseModelUrl}/raw/main/data/tokenizer_2/merges.txt -d {BaseModelDir}/tokenizer_2 -o merges.txt\n",
        "!aria2c --console-log-level=error -c -x 16 -s 16 -k 1M {BaseModelUrl}/raw/main/data/tokenizer_2/special_tokens_map.json -d {BaseModelDir}/tokenizer_2 -o special_tokens_map.json\n",
        "!aria2c --console-log-level=error -c -x 16 -s 16 -k 1M {BaseModelUrl}/raw/main/data/tokenizer_2/tokenizer_config.json -d {BaseModelDir}/tokenizer_2 -o tokenizer_config.json\n",
        "!aria2c --console-log-level=error -c -x 16 -s 16 -k 1M {BaseModelUrl}/raw/main/data/tokenizer_2/vocab.json -d {BaseModelDir}/tokenizer_2 -o vocab.json\n",
        "!aria2c --console-log-level=error -c -x 16 -s 16 -k 1M {BaseModelUrl}/raw/main/data/text_encoder/config.json -d {BaseModelDir}/text_encoder -o config.json\n",
        "!aria2c --console-log-level=error -c -x 16 -s 16 -k 1M {BaseModelUrl}/raw/main/data/text_encoder/model.safetensors -d {BaseModelDir}/text_encoder -o model.safetensors\n",
        "# !aria2c --console-log-level=error -c -x 16 -s 16 -k 1M {BaseModelUrl}/raw/main/data/text_encoder/pytorch_model.bin -d {BaseModelDir}/text_encoder -o pytorch_model.bin\n",
        "!aria2c --console-log-level=error -c -x 16 -s 16 -k 1M {BaseModelUrl}/raw/main/data/text_encoder_2/config.json -d {BaseModelDir}/text_encoder_2 -o config.json\n",
        "!aria2c --console-log-level=error -c -x 16 -s 16 -k 1M {BaseModelUrl}/raw/main/data/text_encoder_2/model.safetensors -d {BaseModelDir}/text_encoder_2 -o model.safetensors\n",
        "# !aria2c --console-log-level=error -c -x 16 -s 16 -k 1M {BaseModelUrl}/raw/main/data/text_encoder_2/pytorch_model.bin -d {BaseModelDir}/text_encoder_2 -o pytorch_model.bin\n",
        "!aria2c --console-log-level=error -c -x 16 -s 16 -k 1M {BaseModelUrl}/raw/main/data/scheduler/scheduler_config.json -d {BaseModelDir}/scheduler -o scheduler_config.json\n",
        "# !aria2c --console-log-level=error -c -x 16 -s 16 -k 1M {BaseModelUrl}/raw/main/data/safety_checker/pytorch_model.bin -d {BaseModelDir}/safety_checker -o pytorch_model.bin\n",
        "# !aria2c --console-log-level=error -c -x 16 -s 16 -k 1M {BaseModelUrl}/raw/main/data/safety_checker/model.safetensors -d {BaseModelDir}/safety_checker -o model.safetensors\n",
        "# !aria2c --console-log-level=error -c -x 16 -s 16 -k 1M {BaseModelUrl}/raw/main/data/safety_checker/config.json -d {BaseModelDir}/safety_checker -o config.json\n",
        "# !aria2c --console-log-level=error -c -x 16 -s 16 -k 1M {BaseModelUrl}/raw/main/data/feature_extractor/preprocessor_config.json -d {BaseModelDir}/feature_extractor -o preprocessor_config.json\n",
        "\n",
        "# !aria2c --console-log-level=error -c -x 16 -s 16 -k 1M  'https://civitai.com/api/download/models/138176?type=Model&format=SafeTensor&size=full&fp=fp32' -d /root/ckpt -o model.safetensors\n",
        "# !wget https://github.com/huggingface/diffusers/raw/{diffusers_version}/scripts/convert_original_stable_diffusion_to_diffusers.py -O convert_original_stable_diffusion_to_diffusers.py\n",
        "# !python convert_original_stable_diffusion_to_diffusers.py --from_safetensors --to_safetensors --checkpoint_path /root/ckpt/model.safetensors --dump_path /root/model\n",
        "# from diffusers import StableDiffusionPipeline\n",
        "# pipeline = StableDiffusionPipeline.from_single_file(\"/root/ckpt/model.safetensors\", use_safetensors=True, safety_checker=None ).to(\"cuda\")\n",
        "# pipeline.save_pretrained('/root/model')\n",
        "\n",
        "%cd /root/trainer\n",
        "!python realistic.py"
      ]
    }
  ],
  "metadata": {
    "accelerator": "GPU",
    "colab": {
      "private_outputs": true,
      "provenance": []
    },
    "gpuClass": "standard",
    "kernelspec": {
      "display_name": "Python 3",
      "name": "python3"
    },
    "language_info": {
      "name": "python"
    }
  },
  "nbformat": 4,
  "nbformat_minor": 0
}
