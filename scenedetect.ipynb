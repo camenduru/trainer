{
  "cells": [
    {
      "cell_type": "markdown",
      "metadata": {
        "id": "view-in-github"
      },
      "source": [
        "[![Open In Colab](https://colab.research.google.com/assets/colab-badge.svg)](https://colab.research.google.com/github/camenduru/trainer/blob/main/scenedetect.ipynb)"
      ]
    },
    {
      "cell_type": "code",
      "execution_count": null,
      "metadata": {},
      "outputs": [],
      "source": [
        "!pip install -q yt_dlp scenedetect[opencv]"
      ]
    },
    {
      "cell_type": "code",
      "execution_count": null,
      "metadata": {},
      "outputs": [],
      "source": [
        "from yt_dlp import YoutubeDL\n",
        "\n",
        "def download_video(id):\n",
        "  ydl_opts = {'overwrites':True, 'format':'bestvideo[ext=mp4]+bestaudio[ext=m4a]/mp4', 'outtmpl':f'/content/videos/{id}.mp4'}\n",
        "  with YoutubeDL(ydl_opts) as ydl:\n",
        "    ydl.download(id)\n",
        "    return f\"/content/videos/{id}.mp4\""
      ]
    },
    {
      "cell_type": "code",
      "execution_count": null,
      "metadata": {},
      "outputs": [],
      "source": [
        "test = 'https://playlist.m3u8'\n",
        "!ffmpeg -protocol_whitelist file,http,https,tcp,tls -allowed_extensions ALL -i {test} -c copy playlist.mp4 > /dev/null 2>&1"
      ]
    },
    {
      "cell_type": "code",
      "execution_count": null,
      "metadata": {},
      "outputs": [],
      "source": [
        "video_id = 'TnGl01FkMMo'\n",
        "download_video(video_id)\n",
        "video_path = f\"/content/videos/{video_id}.mp4\"\n",
        "# !scenedetect -i {video_path} -o /content/adaptive --drop-short-scenes detect-adaptive save-images\n",
        "!scenedetect -i {video_path} -o /content/content --drop-short-scenes --start 00:01:20 --end 01:23:00 detect-content save-images\n",
        "# !scenedetect -i {video_path} -o /content/threshold --drop-short-scenes detect-threshold save-images"
      ]
    },
    {
      "cell_type": "code",
      "execution_count": null,
      "metadata": {},
      "outputs": [],
      "source": [
        "%cd /content/content\n",
        "!zip -r content.zip ./"
      ]
    },
    {
      "cell_type": "code",
      "execution_count": null,
      "metadata": {},
      "outputs": [],
      "source": [
        "%cd /content/content\n",
        "!rm -rf /content/content/*.jpg\n",
        "!unzip /content/content/content.zip -d ./"
      ]
    },
    {
      "cell_type": "code",
      "execution_count": null,
      "metadata": {},
      "outputs": [],
      "source": [
        "import os, cv2\n",
        "import numpy as np\n",
        "\n",
        "folder_path = \"/content/content\"\n",
        "file_list = os.listdir(folder_path)\n",
        "for file_name in file_list:\n",
        "    if file_name.lower().endswith((\".jpg\", \".jpeg\", \".png\", \".gif\")):\n",
        "        full_path = os.path.join(folder_path, file_name)\n",
        "        try:\n",
        "          image = cv2.imread(full_path)\n",
        "          gray = cv2.cvtColor(image, cv2.COLOR_BGR2GRAY)\n",
        "          _, binary = cv2.threshold(gray, 1, 255, cv2.THRESH_BINARY)\n",
        "          contours, _ = cv2.findContours(binary, cv2.RETR_EXTERNAL, cv2.CHAIN_APPROX_SIMPLE)\n",
        "          largest_contour = max(contours, key=cv2.contourArea)\n",
        "          x, y, w, h = cv2.boundingRect(largest_contour)\n",
        "          cropped_image = image[y:y + h, x:x + w]\n",
        "          cv2.imwrite(full_path, cropped_image)\n",
        "\n",
        "          image = cv2.imread(full_path)\n",
        "          gray_image = cv2.cvtColor(image, cv2.COLOR_BGR2GRAY)\n",
        "          average_intensity = cv2.mean(gray_image)[0]\n",
        "          if average_intensity < 20:\n",
        "            print(average_intensity, full_path)\n",
        "            os.remove(full_path)\n",
        "        except Exception as e:\n",
        "          os.remove(full_path)\n",
        "          print(f\"An error occurred while processing {full_path}: {str(e)}\")"
      ]
    },
    {
      "cell_type": "code",
      "execution_count": null,
      "metadata": {},
      "outputs": [],
      "source": [
        "%cd /content/content\n",
        "!zip -r content_cropped.zip ./*.jpg"
      ]
    }
  ],
  "metadata": {
    "accelerator": "GPU",
    "colab": {
      "private_outputs": true,
      "provenance": []
    },
    "gpuClass": "standard",
    "kernelspec": {
      "display_name": "Python 3",
      "name": "python3"
    },
    "language_info": {
      "name": "python"
    }
  },
  "nbformat": 4,
  "nbformat_minor": 0
}
