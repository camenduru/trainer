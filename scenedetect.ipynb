{
  "cells": [
    {
      "cell_type": "markdown",
      "metadata": {
        "id": "view-in-github"
      },
      "source": [
        "[![Open In Colab](https://colab.research.google.com/assets/colab-badge.svg)](https://colab.research.google.com/github/camenduru/trainer/blob/main/scenedetect.ipynb)"
      ]
    },
    {
      "cell_type": "code",
      "execution_count": null,
      "metadata": {},
      "outputs": [],
      "source": [
        "!pip install -q yt_dlp scenedetect[opencv]"
      ]
    },
    {
      "cell_type": "code",
      "execution_count": null,
      "metadata": {},
      "outputs": [],
      "source": [
        "from yt_dlp import YoutubeDL\n",
        "\n",
        "def download_video(id):\n",
        "  ydl_opts = {'overwrites':True, 'format':'bestvideo[ext=mp4]+bestaudio[ext=m4a]/mp4', 'outtmpl':f'/content/videos/{id}.mp4'}\n",
        "  with YoutubeDL(ydl_opts) as ydl:\n",
        "    ydl.download(id)\n",
        "    return f\"/content/videos/{id}.mp4\""
      ]
    },
    {
      "cell_type": "code",
      "execution_count": null,
      "metadata": {},
      "outputs": [],
      "source": [
        "video_id = 'TnGl01FkMMo'\n",
        "download_video(video_id)\n",
        "video_path = f\"/content/videos/{video_id}.mp4\"\n",
        "# !scenedetect -i {video_path} -o /content/adaptive --drop-short-scenes detect-adaptive save-images\n",
        "!scenedetect -i {video_path} -o /content/content --drop-short-scenes detect-content save-images\n",
        "# !scenedetect -i {video_path} -o /content/threshold --drop-short-scenes detect-threshold save-images"
      ]
    },
    {
      "cell_type": "code",
      "execution_count": null,
      "metadata": {},
      "outputs": [],
      "source": [
        "%cd /content/content\n",
        "!zip -r content.zip ./"
      ]
    }
  ],
  "metadata": {
    "accelerator": "GPU",
    "colab": {
      "private_outputs": true,
      "provenance": []
    },
    "gpuClass": "standard",
    "kernelspec": {
      "display_name": "Python 3",
      "name": "python3"
    },
    "language_info": {
      "name": "python"
    }
  },
  "nbformat": 4,
  "nbformat_minor": 0
}
